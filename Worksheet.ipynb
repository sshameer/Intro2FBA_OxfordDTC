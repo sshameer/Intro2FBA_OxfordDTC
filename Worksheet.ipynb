{
 "cells": [
  {
   "cell_type": "markdown",
   "id": "682918bb-fd40-43a0-b275-287b352119e2",
   "metadata": {
    "tags": []
   },
   "source": [
    "# Workshop on modelling metabolism\n",
    "\n",
    "<div>\n",
    "    <div style=\"float:right\">\n",
    "        <center>A typical metabolic network</center>\n",
    "        <img src=\"./Data/Lee_ComplexMetabolism.png\" width=\"600pt\" align=\"center\">\n",
    "    </div>\n",
    "<div style=\"text-align:justify\">Metabolism is complex and highly interconnected. Mathematical models help us study metabolism while accounting for some of its complexities. \n",
    "Depending on the size of the system, the aim of the study, availability of kinetic data and computing power available; one can use kinetic modelling or constraint-based modelling to study metabolism. In this exercise we will be exploring how constraint-based modelling can be used to study metabolism in biological systems.</div>\n",
    "</div>\n",
    "\n",
    "### Constraint-based modelling (CBM) and Flux Balance Analysis (FBA)\n",
    "\n",
    "<div style=\"text-align:justify\">In Constraint-based modelling,  \n",
    "(a) the stoichiometry of metabolites involved in reaction that make up the biological system, and  \n",
    "(b) the upper and lower limits (or constraints) on metabolic fluxes (if known)  \n",
    "are used to generate a set of linear equations that when solved reveal a solution space for all feasible flux distributions in the biological system.\n",
    "</div>\n",
    "<div style=\"text-align:justify\">\n",
    "FBA is the most popular approach in CBM. In FBA, in addition to the above requirements, an expression representing the biological objective of the system is defined. Unicellular organism typically aim to simply grow and multiply. When modelling these systems, a biomass composition is experimentally determined and the information is used to add a reaction that drains metabolites and macromolecules in the same proportion from the system. This reaction is called the \"Biomass\" reaction. Any flux through the biomass reaction represents the growth by cell division. Specialized tissue in multicellular organisms on the other hand may have completely different purpose. For example, the purpose of mesophyl cells that make up most of the leaves in plants is to generate sugar and amino acids for the plant using energy from the sun. The aim of cortical cells of mature roots on the other hand would be to uptake nutrients from the soil and load into the xylem to distributed to the rest of the plant. In these cases, an equation representing the specific objective need to be defined.\n",
    "</div>\n",
    "<div style=\"text-align:justify\">\n",
    "Once an appropriate objective function is determined, linear programming is used to identify a point in the solution space with optimal value for the objective expression.\n",
    "</div>\n"
   ]
  },
  {
   "cell_type": "markdown",
   "id": "eb058357-5e90-4f25-b957-e67cfda12819",
   "metadata": {},
   "source": [
    "To read more about FBA check out ([Orth, Thiele and Palsson, 2010](http://www.nature.com/nbt/journal/v28/n3/abs/nbt.1614.html))"
   ]
  },
  {
   "cell_type": "markdown",
   "id": "7ccd5c2b",
   "metadata": {},
   "source": [
    "### E. Coli\n",
    "E. Coli is the most widely studied prokaryote. It is naturally found in mammal intestines but due to its short replication time and the amount of information known about it, it is relatively easy to bioengineer into a cellular factory to produce many desirable proteins and chemicals. For example, E. coli were used in industrial fermentation processes to produce some of the first synthetic human insulin. Today we'll be exploring a model of E. Coli metabolism"
   ]
  },
  {
   "cell_type": "markdown",
   "id": "15707fa4-5572-4ae5-90de-86099343bc42",
   "metadata": {
    "tags": []
   },
   "source": [
    "## Exercise 1: Study differences in <i>E. coli</i> metabolism under aerobic and anaeobic conditions\n",
    "<div style=\"float:right\">\n",
    "    <center>Brief description of Ecoli Escher model</center>\n",
    "    <img src=\"./Data/EcoliEscherFBAStructure.png\" width=\"900pt\" align=\"center\">\n",
    "</div> \n",
    "\n",
    "#### A) Using Escher-FBA (20 mins)\n",
    "Escher-FBA is an interactive pathway visualization tool for on-the-fly flux balance analysis (FBA) calculations ([Rowe, Palsson & King, 2018](https://www.doi.org/10.1186/s12918-018-0607-5))\n",
    " \n",
    "1) Go to https://sbrg.github.io/escher-fba/#/app    \n",
    "    - A quick brief of the model is provided in the figure below\n",
    "    - Nodes represent metabolites and edges represent reactions\n",
    "    - Note that all reactions that bring metabolites into the system and out of it (also referred to as exchange or boundary reactions) start with an \"EX_\" tag\n",
    "    - Note that the model loads with a default flux distribution. The default glucose uptake (EX_glc_e) in this model is -10 (negative flux here suggests uptake of glucose)  \n",
    "\n",
    "2) Play around with the constraints on each reaction and observe how the different metabolic pathways interact. Take note of all the inputs and outputs to the system.\n",
    "\n",
    "3) Find out if there are any constraints on O2 uptake (EX_o2_e) in the model and determine the O2 influx in the default flux distribution\n",
    "    - Quick way to track down a reaction on Escher-FBA is to use \"Ctrl+F\" and then type in the ID of the reaction you are looking for. In this case EX_o2_e.\n",
    "    - Mouse over the reaction ID and note down the upper and lower bound. The default upper and lower bounds on the flux is 1000 and -1000 respectively. In most models this means there are no limits (or constraints) imposed on the flux.\n",
    "    - Mousing over the reaction ID can also reveal the current flux through the reaction.\n",
    "    - Note down the influxes and outfluxes of the model in aerobic conditions (all reactions starting with \"EX_\").\n",
    "\n",
    "4) What happens if the model does not have access to O2 in its environment? (as anaerobic scenario)\n",
    "    - Mouse over the EX_o2_e reaction and use the sliders or value-entry-box to set the lower bound of the reaction to 0\n",
    "    - Note the change in flux. \n",
    "    - Mouse over reactions to learn more about the reactions.\n",
    "    - Note down the influxes and outfluxes of the model in anaerobic conditions.\n",
    "    - Compare the ATP and NAD(P)H bugdets in each scenario **\n",
    "    \n"
   ]
  },
  {
   "cell_type": "markdown",
   "id": "c8085491-1e9b-40bd-9c91-e6490650dfae",
   "metadata": {
    "tags": []
   },
   "source": [
    "#### B) Using cobrapy library (10 mins)\n",
    "\n",
    "COBRA is a framework for constraint based modelling and cobrapy is its implementation in python ([Ebrahim et. al., 2013](https://doi.org/10.1186/1752-0509-7-74)).\n",
    "\n",
    "1. Import cobra in python and create an ecoli model, and check constraints on glucose and O2 uptake\n",
    "    - import cobra and create a model as shown below"
   ]
  },
  {
   "cell_type": "code",
   "execution_count": 1,
   "id": "43cb1f0e-f662-46fe-9b32-61175f2cccc1",
   "metadata": {},
   "outputs": [
    {
     "name": "stdout",
     "output_type": "stream",
     "text": [
      "Set parameter Username\n",
      "Academic license - for non-commercial use only - expires 2023-01-15\n"
     ]
    }
   ],
   "source": [
    "#import cobrapy library\n",
    "import cobra\n",
    "from UsefulFunctions import *\n",
    "\n",
    "#create an ecoli model\n",
    "from cobra.io import load_model\n",
    "Model = load_model(\"e_coli_core\")"
   ]
  },
  {
   "cell_type": "markdown",
   "id": "63ed5d55-bf50-48d1-b71a-701a257a2b7c",
   "metadata": {},
   "source": [
    "\n",
    "- Here \"Model\" is a cobra `model`object\n",
    "        - use `Model.reactions` to retrieve a list of all reactions in a `model` object\n",
    "        - use `Model.metabolites` to retrieve a list of all metabolites in a `model` object\n",
    "        - use `Model.reactions.get_by_id(\"EX_glc__D_e\")` to retrieve `reaction` object representing uptake of glucose"
   ]
  },
  {
   "cell_type": "code",
   "execution_count": 13,
   "id": "9233255c-6086-46dd-8d17-12e7e05e074f",
   "metadata": {},
   "outputs": [],
   "source": [
    "rxn1 = Model.reactions.get_by_id(\"EX_glc__D_e\")\n",
    "rxn2 = Model.reactions.get_by_id(\"EX_o2_e\")"
   ]
  },
  {
   "cell_type": "markdown",
   "id": "11c09f85-0306-4196-b0ec-e9dfdaa227ec",
   "metadata": {},
   "source": [
    "   - Here\"rxn\" is a `reaction` object, \n",
    "        - `rxn.reaction` can be used to retrieve the chemical reaction equation\n",
    "        - `rxn.metabolites` can be used to retrieve a python dictionary of all metabolites involved and their stoichiometry\n",
    "        - `rxn.lower_bound` holds the lower bound of the reaction and `rxn.upper_bound` holds the upper bound of the reaction. Alternately `rxn.bounds` can retrieve the flux constraints (both lower and upper bounds) of the reaction"
   ]
  },
  {
   "cell_type": "code",
   "execution_count": 14,
   "id": "cf904e38-9326-4f1e-a2c2-acc11c8efa27",
   "metadata": {},
   "outputs": [
    {
     "name": "stdout",
     "output_type": "stream",
     "text": [
      "Printing reaction equation and bounds\n",
      "EX_glc__D_e\tglc__D_e <=> \n",
      "(-10.0, 1000.0)\n",
      "----------------\n",
      "EX_o2_e\to2_e <=> \n",
      "(-1000.0, 1000.0)\n"
     ]
    }
   ],
   "source": [
    "print(\"Printing reaction equation and bounds\")\n",
    "print(rxn1.id+\"\\t\"+rxn1.reaction)\n",
    "print(rxn1.bounds)\n",
    "print(\"----------------\")\n",
    "print(rxn2.id+\"\\t\"+rxn2.reaction)\n",
    "print(rxn2.bounds)"
   ]
  },
  {
   "cell_type": "markdown",
   "id": "8c9b1261",
   "metadata": {},
   "source": [
    "- We can set the model objective by specifying a model reaction and whether we want to maximise or minimise the flux through the reaction."
   ]
  },
  {
   "cell_type": "code",
   "execution_count": 4,
   "id": "34f678d2",
   "metadata": {},
   "outputs": [],
   "source": [
    "Model.objective = 'BIOMASS_Ecoli_core_w_GAM'\n",
    "Model.objective.direction = 'max'"
   ]
  },
  {
   "cell_type": "markdown",
   "id": "21f2f53b-5722-4915-ab01-7994436416dd",
   "metadata": {},
   "source": [
    "2. Run parsimonious FBA or pFBA to model metabolism in aerobic conditions.\n",
    "\n",
    "    - In addition to regular FBA, pFBA performs a seconds optimization to minimize the total flux in the system [Lewis et. al., 2010](https://www.doi.org/10.1038/msb.2010.47). This minimization of sum of fluxes is considered as a proxy for efficient enzyme usage and since evolution drives biological systems to be more efficient in the evnironments they evolve in, pFBA in many cases have been known to generate flux distributions similar to that observed in real systems.\n",
    "    - Then use `Model.summary()` to get an idea of how the system is operating"
   ]
  },
  {
   "cell_type": "code",
   "execution_count": 2,
   "id": "4f29b0c3-2bf4-4293-a12d-7a4c20263544",
   "metadata": {},
   "outputs": [],
   "source": [
    "#run pFBA (FBA finds a point in the solution space where objective is maximized with minimial flux in the system, a proxy for efficient enzyme usage)\n",
    "from cobra.flux_analysis import pfba\n",
    "sol = pfba(Model)"
   ]
  },
  {
   "cell_type": "code",
   "execution_count": 16,
   "id": "14827628-c65e-41a1-a2f9-7758c006238f",
   "metadata": {},
   "outputs": [
    {
     "data": {
      "text/html": [
       "<h3>Objective</h3><p>1.0 BIOMASS_Ecoli_core_w_GAM = 0.8739215069684302</p><h4>Uptake</h4><table border=\"1\" class=\"dataframe\">\n",
       "  <thead>\n",
       "    <tr style=\"text-align: right;\">\n",
       "      <th>Metabolite</th>\n",
       "      <th>Reaction</th>\n",
       "      <th>Flux</th>\n",
       "      <th>C-Number</th>\n",
       "      <th>C-Flux</th>\n",
       "    </tr>\n",
       "  </thead>\n",
       "  <tbody>\n",
       "    <tr>\n",
       "      <td>glc__D_e</td>\n",
       "      <td>EX_glc__D_e</td>\n",
       "      <td>10</td>\n",
       "      <td>6</td>\n",
       "      <td>100.00%</td>\n",
       "    </tr>\n",
       "    <tr>\n",
       "      <td>nh4_e</td>\n",
       "      <td>EX_nh4_e</td>\n",
       "      <td>4.765</td>\n",
       "      <td>0</td>\n",
       "      <td>0.00%</td>\n",
       "    </tr>\n",
       "    <tr>\n",
       "      <td>o2_e</td>\n",
       "      <td>EX_o2_e</td>\n",
       "      <td>21.8</td>\n",
       "      <td>0</td>\n",
       "      <td>0.00%</td>\n",
       "    </tr>\n",
       "    <tr>\n",
       "      <td>pi_e</td>\n",
       "      <td>EX_pi_e</td>\n",
       "      <td>3.215</td>\n",
       "      <td>0</td>\n",
       "      <td>0.00%</td>\n",
       "    </tr>\n",
       "  </tbody>\n",
       "</table><h4>Secretion</h4><table border=\"1\" class=\"dataframe\">\n",
       "  <thead>\n",
       "    <tr style=\"text-align: right;\">\n",
       "      <th>Metabolite</th>\n",
       "      <th>Reaction</th>\n",
       "      <th>Flux</th>\n",
       "      <th>C-Number</th>\n",
       "      <th>C-Flux</th>\n",
       "    </tr>\n",
       "  </thead>\n",
       "  <tbody>\n",
       "    <tr>\n",
       "      <td>co2_e</td>\n",
       "      <td>EX_co2_e</td>\n",
       "      <td>-22.81</td>\n",
       "      <td>1</td>\n",
       "      <td>100.00%</td>\n",
       "    </tr>\n",
       "    <tr>\n",
       "      <td>h2o_e</td>\n",
       "      <td>EX_h2o_e</td>\n",
       "      <td>-29.18</td>\n",
       "      <td>0</td>\n",
       "      <td>0.00%</td>\n",
       "    </tr>\n",
       "    <tr>\n",
       "      <td>h_e</td>\n",
       "      <td>EX_h_e</td>\n",
       "      <td>-17.53</td>\n",
       "      <td>0</td>\n",
       "      <td>0.00%</td>\n",
       "    </tr>\n",
       "  </tbody>\n",
       "</table>"
      ],
      "text/plain": [
       "<cobra.summary.model_summary.ModelSummary at 0x7fa0c8ac22e0>"
      ]
     },
     "execution_count": 16,
     "metadata": {},
     "output_type": "execute_result"
    }
   ],
   "source": [
    "#check summary of flux distributions\n",
    "Model.summary()"
   ]
  },
  {
   "cell_type": "markdown",
   "id": "e54930d4-08a6-4038-8c20-2a514c7b7f66",
   "metadata": {},
   "source": [
    "3. Run pFBA to model metabolism in anaerobic conditions.\n",
    "\n",
    "    - Set o2 uptake flux to 0.\n",
    "    - Run pFBA\n",
    "    - Use `Model.summary()` to get an idea of how the system is operating"
   ]
  },
  {
   "cell_type": "code",
   "execution_count": 3,
   "id": "ff589bcb-39ad-424b-b4e8-a801321a0208",
   "metadata": {},
   "outputs": [],
   "source": [
    "Model.reactions.get_by_id(\"EX_o2_e\").lower_bound = 0"
   ]
  },
  {
   "cell_type": "code",
   "execution_count": 4,
   "id": "980ebff4-78e3-4c15-82cc-d92b458035fb",
   "metadata": {},
   "outputs": [],
   "source": [
    "sol2 = pfba(Model)"
   ]
  },
  {
   "cell_type": "code",
   "execution_count": 19,
   "id": "817ec480-db7c-4e53-84b1-a023ee97d34f",
   "metadata": {},
   "outputs": [
    {
     "data": {
      "text/html": [
       "<h3>Objective</h3><p>1.0 BIOMASS_Ecoli_core_w_GAM = 0.21166294973531055</p><h4>Uptake</h4><table border=\"1\" class=\"dataframe\">\n",
       "  <thead>\n",
       "    <tr style=\"text-align: right;\">\n",
       "      <th>Metabolite</th>\n",
       "      <th>Reaction</th>\n",
       "      <th>Flux</th>\n",
       "      <th>C-Number</th>\n",
       "      <th>C-Flux</th>\n",
       "    </tr>\n",
       "  </thead>\n",
       "  <tbody>\n",
       "    <tr>\n",
       "      <td>co2_e</td>\n",
       "      <td>EX_co2_e</td>\n",
       "      <td>0.3782</td>\n",
       "      <td>1</td>\n",
       "      <td>0.63%</td>\n",
       "    </tr>\n",
       "    <tr>\n",
       "      <td>glc__D_e</td>\n",
       "      <td>EX_glc__D_e</td>\n",
       "      <td>10</td>\n",
       "      <td>6</td>\n",
       "      <td>99.37%</td>\n",
       "    </tr>\n",
       "    <tr>\n",
       "      <td>h2o_e</td>\n",
       "      <td>EX_h2o_e</td>\n",
       "      <td>7.116</td>\n",
       "      <td>0</td>\n",
       "      <td>0.00%</td>\n",
       "    </tr>\n",
       "    <tr>\n",
       "      <td>nh4_e</td>\n",
       "      <td>EX_nh4_e</td>\n",
       "      <td>1.154</td>\n",
       "      <td>0</td>\n",
       "      <td>0.00%</td>\n",
       "    </tr>\n",
       "    <tr>\n",
       "      <td>pi_e</td>\n",
       "      <td>EX_pi_e</td>\n",
       "      <td>0.7786</td>\n",
       "      <td>0</td>\n",
       "      <td>0.00%</td>\n",
       "    </tr>\n",
       "  </tbody>\n",
       "</table><h4>Secretion</h4><table border=\"1\" class=\"dataframe\">\n",
       "  <thead>\n",
       "    <tr style=\"text-align: right;\">\n",
       "      <th>Metabolite</th>\n",
       "      <th>Reaction</th>\n",
       "      <th>Flux</th>\n",
       "      <th>C-Number</th>\n",
       "      <th>C-Flux</th>\n",
       "    </tr>\n",
       "  </thead>\n",
       "  <tbody>\n",
       "    <tr>\n",
       "      <td>ac_e</td>\n",
       "      <td>EX_ac_e</td>\n",
       "      <td>-8.504</td>\n",
       "      <td>2</td>\n",
       "      <td>33.11%</td>\n",
       "    </tr>\n",
       "    <tr>\n",
       "      <td>etoh_e</td>\n",
       "      <td>EX_etoh_e</td>\n",
       "      <td>-8.279</td>\n",
       "      <td>2</td>\n",
       "      <td>32.23%</td>\n",
       "    </tr>\n",
       "    <tr>\n",
       "      <td>for_e</td>\n",
       "      <td>EX_for_e</td>\n",
       "      <td>-17.8</td>\n",
       "      <td>1</td>\n",
       "      <td>34.66%</td>\n",
       "    </tr>\n",
       "    <tr>\n",
       "      <td>h_e</td>\n",
       "      <td>EX_h_e</td>\n",
       "      <td>-30.55</td>\n",
       "      <td>0</td>\n",
       "      <td>0.00%</td>\n",
       "    </tr>\n",
       "  </tbody>\n",
       "</table>"
      ],
      "text/plain": [
       "<cobra.summary.model_summary.ModelSummary at 0x7fa0d93f6250>"
      ]
     },
     "execution_count": 19,
     "metadata": {},
     "output_type": "execute_result"
    }
   ],
   "source": [
    "Model.summary()"
   ]
  },
  {
   "cell_type": "markdown",
   "id": "07795c11-a3be-4bfc-a352-912524630705",
   "metadata": {},
   "source": [
    "4. What changes to the flux distribution do you see between the two conditions (aerobic and anaerobic)?"
   ]
  },
  {
   "cell_type": "code",
   "execution_count": 5,
   "id": "b46ca65f",
   "metadata": {},
   "outputs": [
    {
     "data": {
      "image/png": "[encoded data removed]",
      "text/plain": [
       "<Figure size 432x288 with 1 Axes>"
      ]
     },
     "metadata": {
      "needs_background": "light"
     },
     "output_type": "display_data"
    }
   ],
   "source": [
    "plotBoundary(Model,[sol,sol2],solutionNames=['aerobic','anaerobic'])"
   ]
  },
  {
   "cell_type": "code",
   "execution_count": 6,
   "id": "0333203a",
   "metadata": {},
   "outputs": [
    {
     "data": {
      "image/png": "[encoded data removed]",
      "text/plain": [
       "<Figure size 216x288 with 1 Axes>"
      ]
     },
     "metadata": {
      "needs_background": "light"
     },
     "output_type": "display_data"
    },
    {
     "data": {
      "image/png": "[encoded data removed]",
      "text/plain": [
       "<Figure size 216x288 with 1 Axes>"
      ]
     },
     "metadata": {
      "needs_background": "light"
     },
     "output_type": "display_data"
    }
   ],
   "source": [
    "plotATPBudget(Model,sol)\n",
    "plotATPBudget(Model,sol2)"
   ]
  },
  {
   "cell_type": "markdown",
   "id": "dfa5c499",
   "metadata": {},
   "source": [
    "## Exercise 2: Optimizing for biomass\n",
    "A) (20 mins) The model objective is to optimize for biomass. Have a look another look at the inputs and outputs and loosen the constraints on the other potential bacterial substrates to see which combination results in the fastest growing bacterial colony (results in the greatest biomass flux). Which pathways do these substrates feed into? Have a look at where they are contributing to the ATP/reducing power (NADH/NADPH) in the cell. Why are some more desirable than others?\n",
    "\n",
    "B) (30 mins) Aldehydes in general are toxic to microorganisms due to their high reactivity. They have been shown to inhibit growth of E. Coli colonies. Additionally, E. Coli grow optimally in isotonic media - that is a solution in which the dissolved substrates do not exert any more osmotic pressure than the contents of the cell. In hypertonic media, where the concentration of substrates is too high for E. Coli, they begin to dehydrate which slows down their growth. We will assume for the purposes of this exercise that no acetaldehyde (acald) is the optimal amount of acetaldehyde for E. Coli growth and also that an isotonic solution means that the combined inwards flux of all potential substrates can be no more than 10 µmol/s. What is the new optimal flux for the system?\n",
    "\n",
    "C) (40 mins) How would this change if we wanted our E. Coli colony to produce something else? What is the optimal medium to grow them in to produce ethanol? What if we wanted to maximise the ratio of ethanol to succinate?\n"
   ]
  },
  {
   "cell_type": "markdown",
   "id": "7bb55031",
   "metadata": {},
   "source": [
    "### HINTS"
   ]
  },
  {
   "cell_type": "code",
   "execution_count": 8,
   "id": "6ba897bb",
   "metadata": {},
   "outputs": [
    {
     "name": "stdout",
     "output_type": "stream",
     "text": [
      "EX_ac_e ac_e --> \n",
      "EX_acald_e acald_e --> \n",
      "EX_akg_e akg_e --> \n",
      "EX_co2_e co2_e <=> \n",
      "EX_etoh_e etoh_e --> \n",
      "EX_for_e for_e --> \n",
      "EX_fru_e fru_e --> \n",
      "EX_fum_e fum_e --> \n",
      "EX_glc__D_e glc__D_e <=> \n",
      "EX_gln__L_e gln__L_e --> \n",
      "EX_glu__L_e glu__L_e --> \n",
      "EX_h_e h_e <=> \n",
      "EX_h2o_e h2o_e <=> \n",
      "EX_lac__D_e lac__D_e --> \n",
      "EX_mal__L_e mal__L_e --> \n",
      "EX_nh4_e nh4_e <=> \n",
      "EX_o2_e o2_e <=> \n",
      "EX_pi_e pi_e <=> \n",
      "EX_pyr_e pyr_e --> \n",
      "EX_succ_e succ_e --> \n"
     ]
    }
   ],
   "source": [
    "# We can list all input and output reactions in the model to see what options the E. Coli have for food using \n",
    "for rxn in Model.boundary:\n",
    "    print(rxn.id, rxn.reaction)"
   ]
  },
  {
   "cell_type": "code",
   "execution_count": 9,
   "id": "82482d9f",
   "metadata": {},
   "outputs": [],
   "source": [
    "# To limit the absolute flux of all exchange reactions to 10 µmol/s, we can use the following code.\n",
    "Maximum_exchange = 10\n",
    "coefficients = dict()\n",
    "for rxn in Model.boundary:\n",
    "    coefficients[rxn.forward_variable] = 1.\n",
    "    coefficients[rxn.reverse_variable] = 1.\n",
    "constraint = Model.problem.Constraint(Maximum_exchange, lb=0, ub=100)\n",
    "Model.add_cons_vars(constraint)\n",
    "Model.solver.update()\n",
    "constraint.set_linear_coefficients(coefficients=coefficients)\n",
    "\n",
    "# How would we limit only the incoming reactions? NOTE: For these kinds of constraints, we usually ignore O2, CO2, and water (H2O) and assume they are in abundance\n",
    "\n",
    "# We can remove the above constraint with:\n",
    "Model.remove_cons_vars(constraint)\n",
    "\n",
    "# See https://cobrapy.readthedocs.io/en/latest/constraints_objectives.html#Constraints for more information."
   ]
  },
  {
   "cell_type": "code",
   "execution_count": 27,
   "id": "931dadab",
   "metadata": {},
   "outputs": [
    {
     "name": "stdout",
     "output_type": "stream",
     "text": [
      "EX_ac_e 0.0 1000.0           ac_e --> \n",
      "EX_acald_e 0.0 1000.0           acald_e --> \n",
      "EX_akg_e 0.0 1000.0           akg_e --> \n",
      "EX_co2_e -1000.0 1000.0           co2_e <=> \n",
      "EX_etoh_e 0.0 1000.0           etoh_e --> \n",
      "EX_for_e 0.0 1000.0           for_e --> \n",
      "EX_fru_e 0.0 1000.0           fru_e --> \n",
      "EX_fum_e 0.0 1000.0           fum_e --> \n",
      "EX_glc__D_e -10.0 1000.0           glc__D_e <=> \n",
      "EX_gln__L_e 0.0 1000.0           gln__L_e --> \n",
      "EX_glu__L_e 0.0 1000.0           glu__L_e --> \n",
      "EX_h_e -1000.0 1000.0           h_e <=> \n",
      "EX_h2o_e -1000.0 1000.0           h2o_e <=> \n",
      "EX_lac__D_e 0.0 1000.0           lac__D_e --> \n",
      "EX_mal__L_e 0.0 1000.0           mal__L_e --> \n",
      "EX_nh4_e -1000.0 1000.0           nh4_e <=> \n",
      "EX_o2_e 0 1000.0           o2_e --> \n",
      "EX_pi_e -1000.0 1000.0           pi_e <=> \n",
      "EX_pyr_e 0.0 1000.0           pyr_e --> \n",
      "EX_succ_e 0.0 1000.0           succ_e --> \n"
     ]
    }
   ],
   "source": [
    "for rxn in Model.boundary:\n",
    "    print(rxn.id, rxn.lower_bound, rxn.upper_bound,'         ',rxn.reaction)\n",
    "    rxn.lower_bound=-1000\n",
    "    rxn.upper_bound=1000"
   ]
  },
  {
   "cell_type": "code",
   "execution_count": 28,
   "id": "9ff006ad",
   "metadata": {},
   "outputs": [
    {
     "data": {
      "text/html": [
       "<h3>Objective</h3><p>1.0 BIOMASS_Ecoli_core_w_GAM = 40.854868467592475</p><h4>Uptake</h4><table border=\"1\" class=\"dataframe\">\n",
       "  <thead>\n",
       "    <tr style=\"text-align: right;\">\n",
       "      <th>Metabolite</th>\n",
       "      <th>Reaction</th>\n",
       "      <th>Flux</th>\n",
       "      <th>C-Number</th>\n",
       "      <th>C-Flux</th>\n",
       "    </tr>\n",
       "  </thead>\n",
       "  <tbody>\n",
       "    <tr>\n",
       "      <td>acald_e</td>\n",
       "      <td>EX_acald_e</td>\n",
       "      <td>1000</td>\n",
       "      <td>2</td>\n",
       "      <td>31.82%</td>\n",
       "    </tr>\n",
       "    <tr>\n",
       "      <td>fru_e</td>\n",
       "      <td>EX_fru_e</td>\n",
       "      <td>399.7</td>\n",
       "      <td>6</td>\n",
       "      <td>38.16%</td>\n",
       "    </tr>\n",
       "    <tr>\n",
       "      <td>fum_e</td>\n",
       "      <td>EX_fum_e</td>\n",
       "      <td>101.2</td>\n",
       "      <td>4</td>\n",
       "      <td>6.44%</td>\n",
       "    </tr>\n",
       "    <tr>\n",
       "      <td>glc__D_e</td>\n",
       "      <td>EX_glc__D_e</td>\n",
       "      <td>8.375</td>\n",
       "      <td>6</td>\n",
       "      <td>0.80%</td>\n",
       "    </tr>\n",
       "    <tr>\n",
       "      <td>gln__L_e</td>\n",
       "      <td>EX_gln__L_e</td>\n",
       "      <td>10.45</td>\n",
       "      <td>5</td>\n",
       "      <td>0.83%</td>\n",
       "    </tr>\n",
       "    <tr>\n",
       "      <td>glu__L_e</td>\n",
       "      <td>EX_glu__L_e</td>\n",
       "      <td>201.9</td>\n",
       "      <td>5</td>\n",
       "      <td>16.06%</td>\n",
       "    </tr>\n",
       "    <tr>\n",
       "      <td>mal__L_e</td>\n",
       "      <td>EX_mal__L_e</td>\n",
       "      <td>92.61</td>\n",
       "      <td>4</td>\n",
       "      <td>5.89%</td>\n",
       "    </tr>\n",
       "    <tr>\n",
       "      <td>o2_e</td>\n",
       "      <td>EX_o2_e</td>\n",
       "      <td>500</td>\n",
       "      <td>0</td>\n",
       "      <td>0.00%</td>\n",
       "    </tr>\n",
       "    <tr>\n",
       "      <td>pi_e</td>\n",
       "      <td>EX_pi_e</td>\n",
       "      <td>150.3</td>\n",
       "      <td>0</td>\n",
       "      <td>0.00%</td>\n",
       "    </tr>\n",
       "  </tbody>\n",
       "</table><h4>Secretion</h4><table border=\"1\" class=\"dataframe\">\n",
       "  <thead>\n",
       "    <tr style=\"text-align: right;\">\n",
       "      <th>Metabolite</th>\n",
       "      <th>Reaction</th>\n",
       "      <th>Flux</th>\n",
       "      <th>C-Number</th>\n",
       "      <th>C-Flux</th>\n",
       "    </tr>\n",
       "  </thead>\n",
       "  <tbody>\n",
       "    <tr>\n",
       "      <td>ac_e</td>\n",
       "      <td>EX_ac_e</td>\n",
       "      <td>-822.1</td>\n",
       "      <td>2</td>\n",
       "      <td>36.16%</td>\n",
       "    </tr>\n",
       "    <tr>\n",
       "      <td>akg_e</td>\n",
       "      <td>EX_akg_e</td>\n",
       "      <td>-85.35</td>\n",
       "      <td>5</td>\n",
       "      <td>9.38%</td>\n",
       "    </tr>\n",
       "    <tr>\n",
       "      <td>co2_e</td>\n",
       "      <td>EX_co2_e</td>\n",
       "      <td>-1000</td>\n",
       "      <td>1</td>\n",
       "      <td>21.99%</td>\n",
       "    </tr>\n",
       "    <tr>\n",
       "      <td>etoh_e</td>\n",
       "      <td>EX_etoh_e</td>\n",
       "      <td>-738.1</td>\n",
       "      <td>2</td>\n",
       "      <td>32.46%</td>\n",
       "    </tr>\n",
       "    <tr>\n",
       "      <td>h_e</td>\n",
       "      <td>EX_h_e</td>\n",
       "      <td>-1000</td>\n",
       "      <td>0</td>\n",
       "      <td>0.00%</td>\n",
       "    </tr>\n",
       "  </tbody>\n",
       "</table>"
      ],
      "text/plain": [
       "<cobra.summary.model_summary.ModelSummary at 0x7fa0d943dc40>"
      ]
     },
     "execution_count": 28,
     "metadata": {},
     "output_type": "execute_result"
    }
   ],
   "source": [
    "sol3=pfba(Model)\n",
    "Model.summary()"
   ]
  },
  {
   "cell_type": "code",
   "execution_count": 32,
   "id": "79b3a72b",
   "metadata": {},
   "outputs": [
    {
     "data": {
      "text/html": [
       "<h3>Objective</h3><p>1.0 EX_etoh_e = 1000.0</p><h4>Uptake</h4><table border=\"1\" class=\"dataframe\">\n",
       "  <thead>\n",
       "    <tr style=\"text-align: right;\">\n",
       "      <th>Metabolite</th>\n",
       "      <th>Reaction</th>\n",
       "      <th>Flux</th>\n",
       "      <th>C-Number</th>\n",
       "      <th>C-Flux</th>\n",
       "    </tr>\n",
       "  </thead>\n",
       "  <tbody>\n",
       "    <tr>\n",
       "      <td>acald_e</td>\n",
       "      <td>EX_acald_e</td>\n",
       "      <td>1000</td>\n",
       "      <td>2</td>\n",
       "      <td>60.71%</td>\n",
       "    </tr>\n",
       "    <tr>\n",
       "      <td>glc__D_e</td>\n",
       "      <td>EX_glc__D_e</td>\n",
       "      <td>2.232</td>\n",
       "      <td>6</td>\n",
       "      <td>0.41%</td>\n",
       "    </tr>\n",
       "    <tr>\n",
       "      <td>gln__L_e</td>\n",
       "      <td>EX_gln__L_e</td>\n",
       "      <td>0.3128</td>\n",
       "      <td>5</td>\n",
       "      <td>0.05%</td>\n",
       "    </tr>\n",
       "    <tr>\n",
       "      <td>glu__L_e</td>\n",
       "      <td>EX_glu__L_e</td>\n",
       "      <td>6.045</td>\n",
       "      <td>5</td>\n",
       "      <td>0.92%</td>\n",
       "    </tr>\n",
       "    <tr>\n",
       "      <td>h2o_e</td>\n",
       "      <td>EX_h2o_e</td>\n",
       "      <td>388.3</td>\n",
       "      <td>0</td>\n",
       "      <td>0.00%</td>\n",
       "    </tr>\n",
       "    <tr>\n",
       "      <td>lac__D_e</td>\n",
       "      <td>EX_lac__D_e</td>\n",
       "      <td>403.3</td>\n",
       "      <td>3</td>\n",
       "      <td>36.73%</td>\n",
       "    </tr>\n",
       "    <tr>\n",
       "      <td>mal__L_e</td>\n",
       "      <td>EX_mal__L_e</td>\n",
       "      <td>9.752</td>\n",
       "      <td>4</td>\n",
       "      <td>1.18%</td>\n",
       "    </tr>\n",
       "    <tr>\n",
       "      <td>pi_e</td>\n",
       "      <td>EX_pi_e</td>\n",
       "      <td>4.5</td>\n",
       "      <td>0</td>\n",
       "      <td>0.00%</td>\n",
       "    </tr>\n",
       "  </tbody>\n",
       "</table><h4>Secretion</h4><table border=\"1\" class=\"dataframe\">\n",
       "  <thead>\n",
       "    <tr style=\"text-align: right;\">\n",
       "      <th>Metabolite</th>\n",
       "      <th>Reaction</th>\n",
       "      <th>Flux</th>\n",
       "      <th>C-Number</th>\n",
       "      <th>C-Flux</th>\n",
       "    </tr>\n",
       "  </thead>\n",
       "  <tbody>\n",
       "    <tr>\n",
       "      <td>akg_e</td>\n",
       "      <td>EX_akg_e</td>\n",
       "      <td>-17.01</td>\n",
       "      <td>5</td>\n",
       "      <td>2.62%</td>\n",
       "    </tr>\n",
       "    <tr>\n",
       "      <td>co2_e</td>\n",
       "      <td>EX_co2_e</td>\n",
       "      <td>-403.1</td>\n",
       "      <td>1</td>\n",
       "      <td>12.43%</td>\n",
       "    </tr>\n",
       "    <tr>\n",
       "      <td>etoh_e</td>\n",
       "      <td>EX_etoh_e</td>\n",
       "      <td>-1000</td>\n",
       "      <td>2</td>\n",
       "      <td>61.69%</td>\n",
       "    </tr>\n",
       "    <tr>\n",
       "      <td>succ_e</td>\n",
       "      <td>EX_succ_e</td>\n",
       "      <td>-188.5</td>\n",
       "      <td>4</td>\n",
       "      <td>23.26%</td>\n",
       "    </tr>\n",
       "  </tbody>\n",
       "</table>"
      ],
      "text/plain": [
       "<cobra.summary.model_summary.ModelSummary at 0x7fa0f949a640>"
      ]
     },
     "execution_count": 32,
     "metadata": {},
     "output_type": "execute_result"
    }
   ],
   "source": [
    "Model.objective = 'EX_etoh_e'\n",
    "sol4=pfba(Model)\n",
    "Model.summary()"
   ]
  },
  {
   "cell_type": "markdown",
   "id": "e2389ac4",
   "metadata": {},
   "source": [
    "# Useful functions"
   ]
  },
  {
   "cell_type": "code",
   "execution_count": null,
   "id": "c1319bdd",
   "metadata": {},
   "outputs": [],
   "source": []
  },
  {
   "cell_type": "code",
   "execution_count": 34,
   "id": "e96343ac",
   "metadata": {},
   "outputs": [
    {
     "data": {
      "text/html": [
       "\n",
       "        <table>\n",
       "            <tr>\n",
       "                <td><strong>Metabolite identifier</strong></td><td>succ_e</td>\n",
       "            </tr><tr>\n",
       "                <td><strong>Name</strong></td><td>Succinate</td>\n",
       "            </tr><tr>\n",
       "                <td><strong>Memory address</strong></td>\n",
       "                <td>0x07fa0c98b92e0</td>\n",
       "            </tr><tr>\n",
       "                <td><strong>Formula</strong></td><td>C4H4O4</td>\n",
       "            </tr><tr>\n",
       "                <td><strong>Compartment</strong></td><td>e</td>\n",
       "            </tr><tr>\n",
       "                <td><strong>In 3 reaction(s)</strong></td><td>\n",
       "                    SUCCt2_2, SUCCt3, EX_succ_e</td>\n",
       "            </tr>\n",
       "        </table>"
      ],
      "text/plain": [
       "<Metabolite succ_e at 0x7fa0c98b92e0>"
      ]
     },
     "execution_count": 34,
     "metadata": {},
     "output_type": "execute_result"
    }
   ],
   "source": [
    "Model.metabolites.succ_e"
   ]
  },
  {
   "cell_type": "code",
   "execution_count": null,
   "id": "d666dfa2",
   "metadata": {},
   "outputs": [],
   "source": []
  }
 ],
 "metadata": {
  "kernelspec": {
   "display_name": "Python 3",
   "language": "python",
   "name": "python3"
  },
  "language_info": {
   "codemirror_mode": {
    "name": "ipython",
    "version": 3
   },
   "file_extension": ".py",
   "mimetype": "text/x-python",
   "name": "python",
   "nbconvert_exporter": "python",
   "pygments_lexer": "ipython3",
   "version": "3.9.7"
  },
  "vscode": {
   "interpreter": {
    "hash": "701d4f28dcd0866722f5108a3a4cbcd08882d26398b6d44117e791d7b8102912"
   }
  }
 },
 "nbformat": 4,
 "nbformat_minor": 5
}
