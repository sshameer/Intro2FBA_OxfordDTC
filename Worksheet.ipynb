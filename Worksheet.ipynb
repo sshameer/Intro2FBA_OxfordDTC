{
 "cells": [
  {
   "cell_type": "markdown",
   "id": "682918bb-fd40-43a0-b275-287b352119e2",
   "metadata": {
    "tags": []
   },
   "source": [
    "# Workshop on modelling metabolism\n",
    "\n",
    "<div>\n",
    "    <div style=\"float:right\">\n",
    "        <center>A typical metabolic network</center>\n",
    "        <img src=\"./Data/Lee_ComplexMetabolism.png\" width=\"600pt\" align=\"center\">\n",
    "    </div>\n",
    "<div style=\"text-align:justify\">Metabolism is complex and highly interconnected. Mathematical models help us study metabolism while accounting for some of its complexities. \n",
    "Depending on the size of the system, the aim of the study, availability of kinetic data and computing power available; one can use kinetic modelling or constraint-based modelling to study metabolism. In this exercise we will be exploring how constraint-based modelling can be used to study metabolism in biological systems.</div>\n",
    "</div>\n",
    "\n",
    "### Constraint-based modelling (CBM) and Flux Balance Analysis (FBA)\n",
    "\n",
    "<div style=\"text-align:justify\">In Constraint-based modelling,  \n",
    "(a) the stoichiometry of metabolites involved in reaction that make up the biological system, and  \n",
    "(b) the upper and lower limits (or constraints) on metabolic fluxes (if known)  \n",
    "are used to generate a set of linear equations that when solved reveal a solution space for all feasible flux distributions in the biological system.\n",
    "</div>\n",
    "<div style=\"text-align:justify\">\n",
    "FBA is the most popular approach in CBM. In FBA, in addition to the above requirements, an expression representing the biological objective of the system is defined. Unicellular organism typically aim to simply grow and multiply. When modelling these systems, a biomass composition is experimentally determined and the information is used to add a reaction that drains metabolites and macromolecules in the same proportion from the system. This reaction is called the \"Biomass\" reaction. Any flux through the biomass reaction represents the growth by cell division. Specialized tissue in multicellular organisms on the other hand may have completely different purpose. For example, the purpose of mesophyl cells that make up most of the leaves in plants is to generate sugar and amino acids for the plant using energy from the sun. The aim of cortical cells of mature roots on the other hand would be to uptake nutrients from the soil and load into the xylem to distributed to the rest of the plant. In these cases, an equation representing the specific objective need to be defined.\n",
    "</div>\n",
    "<div style=\"text-align:justify\">\n",
    "Once an appropriate objective function is determined, linear programming is used to identify a point in the solution space with optimal value for the objective expression.\n",
    "</div>\n"
   ]
  },
  {
   "cell_type": "markdown",
   "id": "eb058357-5e90-4f25-b957-e67cfda12819",
   "metadata": {},
   "source": [
    "To read more about FBA check out ([Orth, Thiele and Palsson, 2010](http://www.nature.com/nbt/journal/v28/n3/abs/nbt.1614.html))"
   ]
  },
  {
   "cell_type": "markdown",
   "id": "7ccd5c2b",
   "metadata": {},
   "source": [
    "### E. Coli\n",
    "E. Coli is the most widely studied prokaryote. It is naturally found in mammal intestines but due to its short replication time and the amount of information known about it, it is relatively easy to bioengineer into a cellular factory to produce many desirable proteins and chemicals. For example, E. coli were used in industrial fermentation processes to produce some of the first synthetic human insulin. Today we'll be exploring a model of E. Coli metabolism"
   ]
  },
  {
   "cell_type": "markdown",
   "id": "15707fa4-5572-4ae5-90de-86099343bc42",
   "metadata": {
    "tags": []
   },
   "source": [
    "## Exercise 1: Study differences in <i>E. coli</i> metabolism under aerobic and anaeobic conditions\n",
    "<div style=\"float:right\">\n",
    "    <center>Brief description of Ecoli Escher model</center>\n",
    "    <img src=\"./Data/EcoliEscherFBAStructure.png\" width=\"900pt\" align=\"center\">\n",
    "</div> \n",
    "\n",
    "\n"
   ]
  },
  {
   "cell_type": "markdown",
   "id": "1dfcff38",
   "metadata": {},
   "source": [
    "#### A) Using Escher-FBA (20 mins)\n",
    "Escher-FBA is an interactive pathway visualization tool for on-the-fly flux balance analysis (FBA) calculations ([Rowe, Palsson & King, 2018](https://www.doi.org/10.1186/s12918-018-0607-5))\n",
    " \n",
    "1) Go to https://sbrg.github.io/escher-fba/#/app    \n",
    "    - A quick brief of the model is provided in the figure below\n",
    "    - Nodes represent metabolites and edges represent reactions\n",
    "    - Note that all reactions that bring metabolites into the system and out of it (also referred to as exchange or boundary reactions) start with an \"EX_\" tag\n",
    "    - Note that the model loads with a default flux distribution. The default glucose uptake (EX_glc_e) in this model is -10 (negative flux here suggests uptake of glucose)  \n",
    "\n",
    "2) Play around with the constraints on each reaction and observe how the different metabolic pathways interact. Take note of all the inputs and outputs to the system.\n",
    "\n",
    "3) Find out if there are any constraints on O2 uptake (EX_o2_e) in the model and determine the O2 influx in the default flux distribution\n",
    "    - Quick way to track down a reaction on Escher-FBA is to use \"Ctrl+F\" and then type in the ID of the reaction you are looking for. In this case EX_o2_e.\n",
    "    - Mouse over the reaction ID and note down the upper and lower bound. The default upper and lower bounds on the flux is 1000 and -1000 respectively. In most models this means there are no limits (or constraints) imposed on the flux.\n",
    "    - Mousing over the reaction ID can also reveal the current flux through the reaction.\n",
    "    - Note down the influxes and outfluxes of the model in aerobic conditions (all reactions starting with \"EX_\").\n",
    "\n",
    "4) What happens if the model does not have access to O2 in its environment? (as anaerobic scenario)\n",
    "    - Mouse over the EX_o2_e reaction and use the sliders or value-entry-box to set the lower bound of the reaction to 0\n",
    "    - Note the change in flux. \n",
    "    - Mouse over reactions to learn more about the reactions.\n",
    "    - Note down the influxes and outfluxes of the model in anaerobic conditions.\n",
    "    - Compare the ATP and NAD(P)H bugdets in each scenario **\n",
    "    "
   ]
  },
  {
   "cell_type": "markdown",
   "id": "c8085491-1e9b-40bd-9c91-e6490650dfae",
   "metadata": {
    "tags": []
   },
   "source": [
    "#### B) Using cobrapy library (20 mins)\n",
    "\n",
    "COBRA is a framework for constraint based modelling and cobrapy is its implementation in python ([Ebrahim et. al., 2013](https://doi.org/10.1186/1752-0509-7-74)).\n",
    "\n",
    "1. Import cobra in python and create an ecoli model, and check constraints on glucose and O2 uptake\n",
    "    - import cobra and create a model as shown below"
   ]
  },
  {
   "cell_type": "code",
   "execution_count": 1,
   "id": "43cb1f0e-f662-46fe-9b32-61175f2cccc1",
   "metadata": {},
   "outputs": [
    {
     "name": "stdout",
     "output_type": "stream",
     "text": [
      "Set parameter Username\n",
      "Academic license - for non-commercial use only - expires 2023-01-15\n"
     ]
    }
   ],
   "source": [
    "#import cobrapy library\n",
    "import cobra\n",
    "from UsefulFunctions import *\n",
    "\n",
    "#create an ecoli model\n",
    "from cobra.io import load_model\n",
    "Model = load_model(\"e_coli_core\")"
   ]
  },
  {
   "cell_type": "markdown",
   "id": "63ed5d55-bf50-48d1-b71a-701a257a2b7c",
   "metadata": {},
   "source": [
    "\n",
    "- Here \"Model\" is a cobra `model`object\n",
    "        - use `Model.reactions` to retrieve a list of all reactions in a `model` object\n",
    "        - use `Model.metabolites` to retrieve a list of all metabolites in a `model` object\n",
    "        - use `Model.reactions.get_by_id(\"EX_glc__D_e\")` to retrieve `reaction` object representing uptake of glucose"
   ]
  },
  {
   "cell_type": "code",
   "execution_count": 13,
   "id": "9233255c-6086-46dd-8d17-12e7e05e074f",
   "metadata": {},
   "outputs": [],
   "source": [
    "rxn1 = Model.reactions.get_by_id(\"EX_glc__D_e\")\n",
    "rxn2 = Model.reactions.get_by_id(\"EX_o2_e\")"
   ]
  },
  {
   "cell_type": "markdown",
   "id": "11c09f85-0306-4196-b0ec-e9dfdaa227ec",
   "metadata": {},
   "source": [
    "   - Here\"rxn\" is a `reaction` object, \n",
    "        - `rxn.reaction` can be used to retrieve the chemical reaction equation\n",
    "        - `rxn.metabolites` can be used to retrieve a python dictionary of all metabolites involved and their stoichiometry\n",
    "        - `rxn.lower_bound` holds the lower bound of the reaction and `rxn.upper_bound` holds the upper bound of the reaction. Alternately `rxn.bounds` can retrieve the flux constraints (both lower and upper bounds) of the reaction"
   ]
  },
  {
   "cell_type": "code",
   "execution_count": null,
   "id": "cf904e38-9326-4f1e-a2c2-acc11c8efa27",
   "metadata": {},
   "outputs": [],
   "source": [
    "print(\"Printing reaction equation and bounds\")\n",
    "print(rxn1.id+\"\\t\"+rxn1.reaction)\n",
    "print(rxn1.bounds)\n",
    "print(\"----------------\")\n",
    "print(rxn2.id+\"\\t\"+rxn2.reaction)\n",
    "print(rxn2.bounds)"
   ]
  },
  {
   "cell_type": "markdown",
   "id": "8c9b1261",
   "metadata": {},
   "source": [
    "- We can set the model objective by specifying a model reaction and whether we want to maximise or minimise the flux through the reaction."
   ]
  },
  {
   "cell_type": "code",
   "execution_count": 4,
   "id": "34f678d2",
   "metadata": {},
   "outputs": [],
   "source": [
    "Model.objective = 'BIOMASS_Ecoli_core_w_GAM'\n",
    "Model.objective.direction = 'max'"
   ]
  },
  {
   "cell_type": "markdown",
   "id": "21f2f53b-5722-4915-ab01-7994436416dd",
   "metadata": {},
   "source": [
    "2. Run parsimonious FBA or pFBA to model metabolism in aerobic conditions.\n",
    "\n",
    "    - In addition to regular FBA, pFBA performs a seconds optimization to minimize the total flux in the system [Lewis et. al., 2010](https://www.doi.org/10.1038/msb.2010.47). This minimization of sum of fluxes is considered as a proxy for efficient enzyme usage and since evolution drives biological systems to be more efficient in the evnironments they evolve in, pFBA in many cases have been known to generate flux distributions similar to that observed in real systems.\n",
    "    - Then use `Model.summary()` to get an idea of how the system is operating"
   ]
  },
  {
   "cell_type": "code",
   "execution_count": 2,
   "id": "4f29b0c3-2bf4-4293-a12d-7a4c20263544",
   "metadata": {},
   "outputs": [],
   "source": [
    "#run pFBA (FBA finds a point in the solution space where objective is maximized with minimial flux in the system, a proxy for efficient enzyme usage)\n",
    "from cobra.flux_analysis import pfba\n",
    "sol = pfba(Model)"
   ]
  },
  {
   "cell_type": "code",
   "execution_count": null,
   "id": "14827628-c65e-41a1-a2f9-7758c006238f",
   "metadata": {},
   "outputs": [],
   "source": [
    "#check summary of flux distributions\n",
    "Model.summary()"
   ]
  },
  {
   "cell_type": "markdown",
   "id": "e54930d4-08a6-4038-8c20-2a514c7b7f66",
   "metadata": {},
   "source": [
    "3. Run pFBA to model metabolism in anaerobic conditions.\n",
    "\n",
    "    - Set o2 uptake flux to 0.\n",
    "    - Run pFBA\n",
    "    - Use `Model.summary()` to get an idea of how the system is operating"
   ]
  },
  {
   "cell_type": "code",
   "execution_count": 3,
   "id": "ff589bcb-39ad-424b-b4e8-a801321a0208",
   "metadata": {},
   "outputs": [],
   "source": [
    "# Change the lower_bound of the oxygen influx/efflux reaction to preven influx\n",
    "Model.reactions.get_by_id(\"EX_o2_e\").lower_bound = 0"
   ]
  },
  {
   "cell_type": "code",
   "execution_count": null,
   "id": "980ebff4-78e3-4c15-82cc-d92b458035fb",
   "metadata": {},
   "outputs": [],
   "source": [
    "sol2 = pfba(Model)\n",
    "Model.summary()"
   ]
  },
  {
   "cell_type": "code",
   "execution_count": null,
   "id": "817ec480-db7c-4e53-84b1-a023ee97d34f",
   "metadata": {},
   "outputs": [],
   "source": []
  },
  {
   "cell_type": "markdown",
   "id": "07795c11-a3be-4bfc-a352-912524630705",
   "metadata": {},
   "source": [
    "4. What changes to the flux distribution do you see between the two conditions (aerobic and anaerobic)? \n",
    "    - Which pathways are most affected?\n",
    "    - At what point does the system switch from aerobic to anaerobic metabolism. Why is it happening at this point?"
   ]
  },
  {
   "cell_type": "markdown",
   "id": "0edcb6fa",
   "metadata": {},
   "source": [
    "- Some functions that might be useful for this are:\n",
    "\n",
    "    - `plotBoundary(Model,solutions=[sol,sol2],solutionNames=['aerobic','anaerobic'])`\n",
    "\n",
    "        This will visualise all the inbound and outbound fluxes in solutions `sol` and `sol2` and label them `aerobic` and `anaerobic`. If you want to compare more solutions, you can add the solution objects to the solutions list.\n",
    "\n",
    "    - `plotATPBudget(Model,solutions=[sol,sol2])`\n",
    "\n",
    "        This will show you which reactions are generating and consuming ATP, the main energy-carrying molecule in cells\n",
    "\n",
    "    - `plotNADBudget(Model,solutions=[sol,sol2])`\n",
    "\n",
    "        This will show you which reactions are generating and consuming NADH and NADPH, the main molecules used to transfer reducing power within cells.\n",
    "\n",
    "    If you want to see reaction IDs rather than reaction names, add the flag displayModelID=True to the inputs for these functions."
   ]
  },
  {
   "cell_type": "code",
   "execution_count": null,
   "id": "d31d621c",
   "metadata": {},
   "outputs": [],
   "source": []
  },
  {
   "cell_type": "markdown",
   "id": "dfa5c499",
   "metadata": {},
   "source": [
    "## Exercise 2: Optimizing for biomass\n",
    "A) (30 mins) The model objective is to optimize for biomass. Have a look another look at the inputs and outputs and loosen the constraints on the other potential substrates to see which combination results in the fastest growing bacterial colony (results in the greatest biomass flux). Which pathways do these substrates feed into? Have a look at where they are contributing to the ATP/reducing power (NADH/NADPH) in the cell. Why are some more desirable than others?\n",
    "\n",
    "B) (20 mins) Aldehydes in general are toxic to microorganisms due to their high reactivity. They have been shown to inhibit growth of E. Coli colonies. Additionally, E. Coli grow optimally in isotonic media - that is a solution in which the dissolved substrates do not exert any more osmotic pressure than the contents of the cell. In hypertonic media, where the concentration of substrates is too high for E. Coli, they begin to dehydrate which slows down their growth. We will assume for the purposes of this exercise that no acetaldehyde (acald) is the optimal amount of acetaldehyde for E. Coli growth and also that an isotonic solution means that the combined inwards flux of all potential substrates can be no more than 10 µmol/s. What is the new optimal flux for the system?\n",
    "\n",
    "C) (30 mins) What if we wanted our E. Coli colony to produce something else? What is the optimal medium to grow them in to produce ethanol? What if we want our E, Coli colony to accumulate biomass while producing ethanol?\n"
   ]
  },
  {
   "cell_type": "markdown",
   "id": "7bb55031",
   "metadata": {},
   "source": [
    "### HINTS"
   ]
  },
  {
   "cell_type": "code",
   "execution_count": null,
   "id": "6ba897bb",
   "metadata": {},
   "outputs": [],
   "source": [
    "# We can list all input and output reactions in the model to see what options the E. Coli have for food using \n",
    "for rxn in Model.boundary:\n",
    "    print(rxn.id, rxn.reaction)"
   ]
  },
  {
   "cell_type": "code",
   "execution_count": 9,
   "id": "82482d9f",
   "metadata": {},
   "outputs": [],
   "source": [
    "# To limit the absolute flux of all exchange reactions to 10 µmol/s, we can use the following code.\n",
    "Maximum_exchange = 10\n",
    "coefficients = dict()\n",
    "for rxn in Model.boundary:\n",
    "    coefficients[rxn.forward_variable] = 1.\n",
    "    coefficients[rxn.reverse_variable] = 1.\n",
    "constraint = Model.problem.Constraint(0, lb=0, ub=Maximum_exchange)\n",
    "Model.add_cons_vars(constraint)\n",
    "Model.solver.update()\n",
    "constraint.set_linear_coefficients(coefficients=coefficients)\n",
    "\n",
    "# How would we limit only the incoming reactions? NOTE: For these kinds of constraints, we usually ignore O2, CO2, and water (H2O) and assume they are in abundance\n",
    "\n",
    "# We can remove the above constraint with:\n",
    "Model.remove_cons_vars(constraint)\n",
    "\n",
    "# See https://cobrapy.readthedocs.io/en/latest/constraints_objectives.html#Constraints for more information."
   ]
  },
  {
   "cell_type": "code",
   "execution_count": null,
   "id": "d666dfa2",
   "metadata": {},
   "outputs": [],
   "source": []
  }
 ],
 "metadata": {
  "kernelspec": {
   "display_name": "Python 3",
   "language": "python",
   "name": "python3"
  },
  "language_info": {
   "codemirror_mode": {
    "name": "ipython",
    "version": 3
   },
   "file_extension": ".py",
   "mimetype": "text/x-python",
   "name": "python",
   "nbconvert_exporter": "python",
   "pygments_lexer": "ipython3",
   "version": "3.9.7"
  },
  "vscode": {
   "interpreter": {
    "hash": "701d4f28dcd0866722f5108a3a4cbcd08882d26398b6d44117e791d7b8102912"
   }
  }
 },
 "nbformat": 4,
 "nbformat_minor": 5
}
